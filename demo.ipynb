{
 "cells": [
  {
   "cell_type": "code",
   "execution_count": 1,
   "id": "dbad558a-26a1-4063-b666-874ffbc49cd5",
   "metadata": {},
   "outputs": [],
   "source": [
    "%load_ext autoreload\n",
    "%autoreload 2"
   ]
  },
  {
   "cell_type": "code",
   "execution_count": 2,
   "id": "5997c7bb-c3f3-4c62-8780-e6df604f61d6",
   "metadata": {},
   "outputs": [
    {
     "name": "stderr",
     "output_type": "stream",
     "text": [
      "/home/michaln/Michal_Linux/git/envs/GNN_demo/lib/python3.13/site-packages/torch_geometric/typing.py:86: UserWarning: An issue occurred while importing 'torch-scatter'. Disabling its usage. Stacktrace: /home/michaln/Michal_Linux/git/envs/GNN_demo/lib/python3.13/site-packages/torch_scatter/_version_cpu.so: undefined symbol: __cxa_call_terminate\n",
      "  warnings.warn(f\"An issue occurred while importing 'torch-scatter'. \"\n"
     ]
    }
   ],
   "source": [
    "from torch_geometric.datasets import TUDataset\n",
    "import torch\n",
    "import torch.nn as nn\n",
    "from torch_geometric.nn import Sequential, aggr, TransformerConv, norm\n",
    "import pandas as pd\n",
    "import matplotlib.pyplot as plt\n",
    "\n",
    "from backend import *\n",
    "\n",
    "device = torch.device('cuda' if torch.cuda.is_available() else 'cpu')"
   ]
  },
  {
   "cell_type": "code",
   "execution_count": 4,
   "id": "24499c54-fe40-42f7-ab00-c90098b07050",
   "metadata": {},
   "outputs": [],
   "source": [
    "dataset = TUDataset(root='/tmp/TWITTER-Real-Graph-Partial', name='TWITTER-Real-Graph-Partial')#, use_node_attr=True)"
   ]
  },
  {
   "cell_type": "code",
   "execution_count": 5,
   "id": "55b44784-b239-40c8-8fe3-9aff1e78f45d",
   "metadata": {},
   "outputs": [
    {
     "name": "stdout",
     "output_type": "stream",
     "text": [
      "Train: 115226\n",
      "Valid: 14404\n",
      "Test: 14403\n"
     ]
    }
   ],
   "source": [
    "train_loader, valid_loader, test_loader = get_dataloaders(dataset, batch_size=64, train_frac=0.8, test_frac=0.5)"
   ]
  },
  {
   "cell_type": "code",
   "execution_count": 7,
   "id": "1b8568ea-970a-4da6-9bee-1938ec803583",
   "metadata": {},
   "outputs": [],
   "source": [
    "class GraphTransformer(nn.Module):\n",
    "    def __init__(self, num_features, num_classes, n_heads=5, k_h=64, p=0.3):\n",
    "        super().__init__()\n",
    "        \n",
    "        self.encoder = Sequential(\n",
    "            'x', [\n",
    "                (nn.Linear(num_features, 500), 'x -> x'),\n",
    "                norm.BatchNorm(500),\n",
    "                nn.ReLU(inplace=True),\n",
    "                nn.Dropout(p),\n",
    "                nn.Linear(500, 250),\n",
    "                norm.BatchNorm(250),\n",
    "                nn.ReLU(inplace=True),\n",
    "                nn.Dropout(p),\n",
    "                nn.Linear(250, 100),\n",
    "                norm.BatchNorm(100),\n",
    "                nn.ReLU(inplace=True),\n",
    "                nn.Dropout(p),\n",
    "            ])\n",
    "\n",
    "        d_h = k_h*n_heads\n",
    "        self.transformer = Sequential(\n",
    "            'x, edge_index, batch', [\n",
    "            (TransformerConv(100, int(d_h/n_heads), heads=n_heads), 'x, edge_index -> x'),\n",
    "            norm.BatchNorm(d_h),\n",
    "            nn.ReLU(inplace=True),\n",
    "            nn.Dropout(p),\n",
    "            (TransformerConv(d_h, int(d_h/n_heads), heads=n_heads), 'x, edge_index -> x'),\n",
    "            norm.BatchNorm(d_h),\n",
    "            nn.ReLU(inplace=True),\n",
    "            nn.Dropout(p),\n",
    "            (TransformerConv(d_h, int(d_h/n_heads), heads=n_heads), 'x, edge_index -> x'),\n",
    "            norm.BatchNorm(d_h),\n",
    "            nn.ReLU(inplace=True),\n",
    "            nn.Dropout(p),\n",
    "            (TransformerConv(d_h, int(d_h/n_heads), heads=n_heads), 'x, edge_index -> x'),\n",
    "            norm.BatchNorm(d_h),\n",
    "            nn.ReLU(inplace=True),\n",
    "            nn.Dropout(p),\n",
    "            (aggr.MaxAggregation(), 'x, batch -> x'),\n",
    "            nn.Linear(d_h, num_classes),\n",
    "            ])\n",
    "            \n",
    "    def forward(self, data):\n",
    "        x, edge_index, batch = data.x, data.edge_index, data.batch\n",
    "\n",
    "        x = self.encoder(x)\n",
    "        return self.transformer(x, edge_index, batch)"
   ]
  },
  {
   "cell_type": "code",
   "execution_count": 9,
   "id": "1c4a1242-f699-4743-9847-e3f1ea5a89ea",
   "metadata": {},
   "outputs": [
    {
     "name": "stderr",
     "output_type": "stream",
     "text": [
      "GPU available: True (cuda), used: True\n",
      "TPU available: False, using: 0 TPU cores\n",
      "HPU available: False, using: 0 HPUs\n",
      "You are using a CUDA device ('NVIDIA GeForce RTX 3060 Ti') that has Tensor Cores. To properly utilize them, you should set `torch.set_float32_matmul_precision('medium' | 'high')` which will trade-off precision for performance. For more details, read https://pytorch.org/docs/stable/generated/torch.set_float32_matmul_precision.html#torch.set_float32_matmul_precision\n",
      "/home/michaln/Michal_Linux/git/envs/GNN_demo/lib/python3.13/site-packages/pytorch_lightning/callbacks/model_checkpoint.py:658: Checkpoint directory /home/michaln/Michal_Linux/git/GNN_demo/GT_Twitter/checkpoints exists and is not empty.\n",
      "LOCAL_RANK: 0 - CUDA_VISIBLE_DEVICES: [0]\n",
      "\n",
      "  | Name      | Type               | Params | Mode \n",
      "---------------------------------------------------------\n",
      "0 | val_acc   | MulticlassAccuracy | 0      | train\n",
      "1 | train_acc | MulticlassAccuracy | 0      | train\n",
      "2 | test_acc  | MulticlassAccuracy | 0      | train\n",
      "3 | model     | GraphTransformer   | 2.2 M  | train\n",
      "4 | criterion | CrossEntropyLoss   | 0      | train\n",
      "---------------------------------------------------------\n",
      "2.2 M     Trainable params\n",
      "0         Non-trainable params\n",
      "2.2 M     Total params\n",
      "8.717     Total estimated model params size (MB)\n",
      "64        Modules in train mode\n",
      "0         Modules in eval mode\n"
     ]
    },
    {
     "data": {
      "application/vnd.jupyter.widget-view+json": {
       "model_id": "3af527976daf4f0596389cd7ebc178fe",
       "version_major": 2,
       "version_minor": 0
      },
      "text/plain": [
       "Sanity Checking: |                                                                                            …"
      ]
     },
     "metadata": {},
     "output_type": "display_data"
    },
    {
     "name": "stderr",
     "output_type": "stream",
     "text": [
      "/home/michaln/Michal_Linux/git/envs/GNN_demo/lib/python3.13/site-packages/pytorch_lightning/trainer/connectors/data_connector.py:425: The 'val_dataloader' does not have many workers which may be a bottleneck. Consider increasing the value of the `num_workers` argument` to `num_workers=19` in the `DataLoader` to improve performance.\n",
      "/home/michaln/Michal_Linux/git/envs/GNN_demo/lib/python3.13/site-packages/pytorch_lightning/utilities/data.py:79: Trying to infer the `batch_size` from an ambiguous collection. The batch size we found is 2. To avoid any miscalculations, use `self.log(..., batch_size=batch_size)`.\n",
      "/home/michaln/Michal_Linux/git/envs/GNN_demo/lib/python3.13/site-packages/pytorch_lightning/trainer/connectors/data_connector.py:425: The 'train_dataloader' does not have many workers which may be a bottleneck. Consider increasing the value of the `num_workers` argument` to `num_workers=19` in the `DataLoader` to improve performance.\n"
     ]
    },
    {
     "data": {
      "application/vnd.jupyter.widget-view+json": {
       "model_id": "4919d00e8dca40edbf7d9174a1ade086",
       "version_major": 2,
       "version_minor": 0
      },
      "text/plain": [
       "Training: |                                                                                                   …"
      ]
     },
     "metadata": {},
     "output_type": "display_data"
    },
    {
     "name": "stderr",
     "output_type": "stream",
     "text": [
      "/home/michaln/Michal_Linux/git/envs/GNN_demo/lib/python3.13/site-packages/torch_geometric/warnings.py:11: UserWarning: The usage of `scatter(reduce='max')` can be accelerated via the 'torch-scatter' package, but it was not found\n",
      "  warnings.warn(message)\n"
     ]
    },
    {
     "data": {
      "application/vnd.jupyter.widget-view+json": {
       "model_id": "b849820bc4464157ab3529ec5bde82af",
       "version_major": 2,
       "version_minor": 0
      },
      "text/plain": [
       "Validation: |                                                                                                 …"
      ]
     },
     "metadata": {},
     "output_type": "display_data"
    },
    {
     "data": {
      "application/vnd.jupyter.widget-view+json": {
       "model_id": "5546c975d4c34b4bbe21ed5a131b5f56",
       "version_major": 2,
       "version_minor": 0
      },
      "text/plain": [
       "Validation: |                                                                                                 …"
      ]
     },
     "metadata": {},
     "output_type": "display_data"
    },
    {
     "data": {
      "application/vnd.jupyter.widget-view+json": {
       "model_id": "88d7463dc8214eaab97d8dab4645c2a2",
       "version_major": 2,
       "version_minor": 0
      },
      "text/plain": [
       "Validation: |                                                                                                 …"
      ]
     },
     "metadata": {},
     "output_type": "display_data"
    },
    {
     "data": {
      "application/vnd.jupyter.widget-view+json": {
       "model_id": "97f72864a6714ffcaa36db512c1a8c8b",
       "version_major": 2,
       "version_minor": 0
      },
      "text/plain": [
       "Validation: |                                                                                                 …"
      ]
     },
     "metadata": {},
     "output_type": "display_data"
    },
    {
     "data": {
      "application/vnd.jupyter.widget-view+json": {
       "model_id": "93944c82b6494b69a9f9b94da029587e",
       "version_major": 2,
       "version_minor": 0
      },
      "text/plain": [
       "Validation: |                                                                                                 …"
      ]
     },
     "metadata": {},
     "output_type": "display_data"
    },
    {
     "data": {
      "application/vnd.jupyter.widget-view+json": {
       "model_id": "5674074d018a407f9c06361d6ceafc93",
       "version_major": 2,
       "version_minor": 0
      },
      "text/plain": [
       "Validation: |                                                                                                 …"
      ]
     },
     "metadata": {},
     "output_type": "display_data"
    },
    {
     "data": {
      "application/vnd.jupyter.widget-view+json": {
       "model_id": "6e4c0e5c208f491d8e0f57a5c7fabe34",
       "version_major": 2,
       "version_minor": 0
      },
      "text/plain": [
       "Validation: |                                                                                                 …"
      ]
     },
     "metadata": {},
     "output_type": "display_data"
    },
    {
     "data": {
      "application/vnd.jupyter.widget-view+json": {
       "model_id": "2e823f97ed88414d8820c34add021720",
       "version_major": 2,
       "version_minor": 0
      },
      "text/plain": [
       "Validation: |                                                                                                 …"
      ]
     },
     "metadata": {},
     "output_type": "display_data"
    },
    {
     "data": {
      "application/vnd.jupyter.widget-view+json": {
       "model_id": "f113886f1918468f84388765080ed806",
       "version_major": 2,
       "version_minor": 0
      },
      "text/plain": [
       "Validation: |                                                                                                 …"
      ]
     },
     "metadata": {},
     "output_type": "display_data"
    },
    {
     "data": {
      "application/vnd.jupyter.widget-view+json": {
       "model_id": "aa952388d31e4440a13587e95cda809a",
       "version_major": 2,
       "version_minor": 0
      },
      "text/plain": [
       "Validation: |                                                                                                 …"
      ]
     },
     "metadata": {},
     "output_type": "display_data"
    },
    {
     "name": "stderr",
     "output_type": "stream",
     "text": [
      "`Trainer.fit` stopped: `max_epochs=10` reached.\n",
      "/home/michaln/Michal_Linux/git/envs/GNN_demo/lib/python3.13/site-packages/pytorch_lightning/trainer/connectors/checkpoint_connector.py:149: `.test(ckpt_path=None)` was called without a model. The best model of the previous `fit` call will be used. You can pass `.test(ckpt_path='best')` to use the best model or `.test(ckpt_path='last')` to use the last model. If you pass a value, this warning will be silenced.\n",
      "Restoring states from the checkpoint path at /home/michaln/Michal_Linux/git/GNN_demo/GT_Twitter/checkpoints/epoch=6-step=12607.ckpt\n",
      "LOCAL_RANK: 0 - CUDA_VISIBLE_DEVICES: [0]\n",
      "Loaded model weights from the checkpoint at /home/michaln/Michal_Linux/git/GNN_demo/GT_Twitter/checkpoints/epoch=6-step=12607.ckpt\n",
      "/home/michaln/Michal_Linux/git/envs/GNN_demo/lib/python3.13/site-packages/pytorch_lightning/trainer/connectors/data_connector.py:425: The 'test_dataloader' does not have many workers which may be a bottleneck. Consider increasing the value of the `num_workers` argument` to `num_workers=19` in the `DataLoader` to improve performance.\n"
     ]
    },
    {
     "data": {
      "application/vnd.jupyter.widget-view+json": {
       "model_id": "c16926416fb9414daa1cc00590295603",
       "version_major": 2,
       "version_minor": 0
      },
      "text/plain": [
       "Testing: |                                                                                                    …"
      ]
     },
     "metadata": {},
     "output_type": "display_data"
    },
    {
     "name": "stdout",
     "output_type": "stream",
     "text": [
      "────────────────────────────────────────────────────────────────────────────────────────────────────────────────────────\n",
      "       Test metric             DataLoader 0\n",
      "────────────────────────────────────────────────────────────────────────────────────────────────────────────────────────\n",
      "        test_acc            0.6520863771438599\n",
      "        test_loss           0.6208643317222595\n",
      "────────────────────────────────────────────────────────────────────────────────────────────────────────────────────────\n"
     ]
    },
    {
     "data": {
      "text/plain": [
       "[{'test_loss': 0.6208643317222595, 'test_acc': 0.6520863771438599}]"
      ]
     },
     "execution_count": 9,
     "metadata": {},
     "output_type": "execute_result"
    }
   ],
   "source": [
    "model = GraphTransformer(dataset.num_node_features, dataset.num_classes)\n",
    "\n",
    "optim = torch.optim.Adam\n",
    "optim_kwargs = {'lr': 1e-3, 'weight_decay': 1e-5}\n",
    "\n",
    "model_module = GNNClassificationModule(model, (train_loader, valid_loader, test_loader), dataset.num_classes, optim, **optim_kwargs)#, lr=1e-3, weight_decay=1e-5)\n",
    "\n",
    "outpath = 'GT_Twitter'\n",
    "\n",
    "# Define checkpoint callback function to save best model\n",
    "checkpoint_callback = ModelCheckpoint(\n",
    "        monitor=\"val_loss\",\n",
    "        dirpath=f\"{outpath}/checkpoints/\",\n",
    "        save_top_k=1,        # Save the best model\n",
    "        mode=\"min\",\n",
    "        every_n_epochs=1\n",
    "    )\n",
    "\n",
    "# Train and test the model\n",
    "trainer = pl.Trainer(\n",
    "    accelerator=\"auto\",\n",
    "    devices=1 if torch.cuda.is_available() else None,  \n",
    "    max_epochs=10,\n",
    "    callbacks=[TQDMProgressBar(refresh_rate=20), checkpoint_callback],\n",
    "    logger=CSVLogger(save_dir=f\"{outpath}/logs/\"),\n",
    ")\n",
    "\n",
    "trainer.fit(model_module)\n",
    "trainer.test()"
   ]
  },
  {
   "cell_type": "code",
   "execution_count": 10,
   "id": "c09be435-b971-445f-8835-64e443fa30fe",
   "metadata": {},
   "outputs": [
    {
     "data": {
      "image/png": "[encoded data removed]",
      "text/plain": [
       "<Figure size 640x480 with 1 Axes>"
      ]
     },
     "metadata": {},
     "output_type": "display_data"
    },
    {
     "data": {
      "image/png": "[encoded data removed]",
      "text/plain": [
       "<Figure size 640x480 with 1 Axes>"
      ]
     },
     "metadata": {},
     "output_type": "display_data"
    }
   ],
   "source": [
    "# Plot loss & accuracy\n",
    "metrics_task = pd.read_csv(trainer.logger.log_dir + \"/metrics.csv\")\n",
    "metrics_task.set_index(\"epoch\", inplace=True)\n",
    "metrics_task = metrics_task.groupby(level=0).sum().drop(\"step\", axis=1)\n",
    "\n",
    "plt.plot(metrics_task.train_loss[:-1], label='Train')\n",
    "plt.plot(metrics_task.val_loss[:-1], label='Validation')\n",
    "plt.title('Loss')\n",
    "plt.legend()\n",
    "plt.xlabel('Epoch')\n",
    "plt.ylabel('Loss')\n",
    "plt.grid()\n",
    "\n",
    "plt.show()\n",
    "\n",
    "plt.plot(metrics_task.train_acc[:-1], label='Train')\n",
    "plt.plot(metrics_task.val_acc[:-1], label='Validation')\n",
    "plt.title('Accuracy')\n",
    "plt.legend()\n",
    "plt.xlabel('Epoch')\n",
    "plt.ylabel('Accuracy')\n",
    "plt.grid()\n",
    "\n",
    "plt.show()"
   ]
  },
  {
   "cell_type": "code",
   "execution_count": null,
   "id": "ea587b64-da84-4a1a-8b45-fcd962c8989b",
   "metadata": {},
   "outputs": [],
   "source": []
  }
 ],
 "metadata": {
  "kernelspec": {
   "display_name": "Python 3 (ipykernel)",
   "language": "python",
   "name": "python3"
  },
  "language_info": {
   "codemirror_mode": {
    "name": "ipython",
    "version": 3
   },
   "file_extension": ".py",
   "mimetype": "text/x-python",
   "name": "python",
   "nbconvert_exporter": "python",
   "pygments_lexer": "ipython3",
   "version": "3.13.5"
  }
 },
 "nbformat": 4,
 "nbformat_minor": 5
}
