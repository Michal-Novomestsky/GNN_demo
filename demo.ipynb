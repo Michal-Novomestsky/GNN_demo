{
 "cells": [
  {
   "cell_type": "code",
   "execution_count": 1,
   "id": "dbad558a-26a1-4063-b666-874ffbc49cd5",
   "metadata": {},
   "outputs": [],
   "source": [
    "%load_ext autoreload\n",
    "%autoreload 2"
   ]
  },
  {
   "cell_type": "code",
   "execution_count": 2,
   "id": "5997c7bb-c3f3-4c62-8780-e6df604f61d6",
   "metadata": {},
   "outputs": [
    {
     "name": "stderr",
     "output_type": "stream",
     "text": [
      "/home/michaln/Michal_Linux/git/envs/GNN_demo/lib/python3.13/site-packages/torch_geometric/typing.py:86: UserWarning: An issue occurred while importing 'torch-scatter'. Disabling its usage. Stacktrace: /home/michaln/Michal_Linux/git/envs/GNN_demo/lib/python3.13/site-packages/torch_scatter/_version_cpu.so: undefined symbol: __cxa_call_terminate\n",
      "  warnings.warn(f\"An issue occurred while importing 'torch-scatter'. \"\n"
     ]
    }
   ],
   "source": [
    "# NOTE: If you get a warning about torch-scatter, this is fine. It just provides some optimisations and is not necessary for successful execution.\n",
    "\n",
    "from torch_geometric.datasets import TUDataset\n",
    "import torch\n",
    "import torch.nn as nn\n",
    "from torch_geometric.nn import Sequential, aggr, TransformerConv, norm\n",
    "import pandas as pd\n",
    "import matplotlib.pyplot as plt\n",
    "\n",
    "from backend import *\n",
    "\n",
    "device = torch.device('cuda' if torch.cuda.is_available() else 'cpu')"
   ]
  },
  {
   "cell_type": "code",
   "execution_count": 3,
   "id": "24499c54-fe40-42f7-ab00-c90098b07050",
   "metadata": {},
   "outputs": [
    {
     "name": "stderr",
     "output_type": "stream",
     "text": [
      "Processing...\n",
      "Done!\n"
     ]
    }
   ],
   "source": [
    "# For this demo, we use a Twitter/X dataset to show that GNNs have clear applications in an enterprise setting. In this case, it is a binary classification task.\n",
    "dataset = TUDataset(root='/tmp/TWITTER-Real-Graph-Partial', name='TWITTER-Real-Graph-Partial')"
   ]
  },
  {
   "cell_type": "code",
   "execution_count": 8,
   "id": "ded13163-5b5d-4afa-93c8-4095f9494d5f",
   "metadata": {},
   "outputs": [
    {
     "name": "stderr",
     "output_type": "stream",
     "text": [
      "100%|██████████████████████████████████████████████████████████████████████████████████████████████████████████████████████████████████████████████████████████████████████████████████████████████████████████████████████████████████| 144033/144033 [00:02<00:00, 53676.65it/s]"
     ]
    },
    {
     "name": "stdout",
     "output_type": "stream",
     "text": [
      "TUDataset (#graphs=144033):\n",
      "+------------+----------+----------+\n",
      "|            |   #nodes |   #edges |\n",
      "|------------+----------+----------|\n",
      "| mean       |      4   |     10   |\n",
      "| std        |      1.7 |      9.1 |\n",
      "| min        |      2   |      2   |\n",
      "| quantile25 |      3   |      4   |\n",
      "| median     |      4   |      6   |\n",
      "| quantile75 |      5   |     14   |\n",
      "| max        |     14   |    116   |\n",
      "+------------+----------+----------+\n"
     ]
    },
    {
     "name": "stderr",
     "output_type": "stream",
     "text": [
      "\n"
     ]
    }
   ],
   "source": [
    "# Looking at some key stats, we see that on average these are graphs with 4 nodes and 10 edges, and are as large as 14 node graphs with 116 edges.\n",
    "dataset.print_summary()"
   ]
  },
  {
   "cell_type": "code",
   "execution_count": 11,
   "id": "ec44a628-7263-44ef-8e2e-c59f15c64b64",
   "metadata": {},
   "outputs": [
    {
     "data": {
      "text/plain": [
       "Data(edge_index=[2, 6], x=[4, 1323], edge_attr=[6, 0], y=[1])"
      ]
     },
     "execution_count": 11,
     "metadata": {},
     "output_type": "execute_result"
    }
   ],
   "source": [
    "# Additionally, we see that these are graphs where each node has 1323 features\n",
    "dataset[0]"
   ]
  },
  {
   "cell_type": "code",
   "execution_count": 12,
   "id": "55b44784-b239-40c8-8fe3-9aff1e78f45d",
   "metadata": {},
   "outputs": [
    {
     "name": "stdout",
     "output_type": "stream",
     "text": [
      "Train: 115226\n",
      "Valid: 14404\n",
      "Test: 14403\n"
     ]
    }
   ],
   "source": [
    "# Split the dataset into train, validation and testing partitions\n",
    "train_loader, valid_loader, test_loader = get_dataloaders(dataset, batch_size=64, train_frac=0.8, test_frac=0.5)"
   ]
  },
  {
   "cell_type": "code",
   "execution_count": 15,
   "id": "1b8568ea-970a-4da6-9bee-1938ec803583",
   "metadata": {},
   "outputs": [],
   "source": [
    "# Let's create a model. Here I've come up with a graph transformer architecture which gets ~66% accuracy on this dataset. More careful tuning over a longer project could probably score higher.\n",
    "\n",
    "class GraphTransformer(nn.Module):\n",
    "    def __init__(self, num_features, num_classes, n_heads=5, k_h=64, p=0.3):\n",
    "        super().__init__()\n",
    "\n",
    "        # Encode the 1323 dimensional features down to 100 features (many features are likely to be redundant for a simple binary classification task)\n",
    "        self.encoder = Sequential(\n",
    "            'x', [\n",
    "                (nn.Linear(num_features, 500), 'x -> x'),\n",
    "                norm.BatchNorm(500),\n",
    "                nn.ReLU(inplace=True),\n",
    "                nn.Dropout(p),\n",
    "                nn.Linear(500, 250),\n",
    "                norm.BatchNorm(250),\n",
    "                nn.ReLU(inplace=True),\n",
    "                nn.Dropout(p),\n",
    "                nn.Linear(250, 100),\n",
    "                norm.BatchNorm(100),\n",
    "                nn.ReLU(inplace=True),\n",
    "                nn.Dropout(p),\n",
    "            ])\n",
    "\n",
    "        # Pass through the graph transformer component\n",
    "        d_h = k_h*n_heads\n",
    "        self.transformer = Sequential(\n",
    "            'x, edge_index', [\n",
    "            (TransformerConv(100, int(d_h/n_heads), heads=n_heads), 'x, edge_index -> x'),\n",
    "            norm.BatchNorm(d_h),\n",
    "            nn.ReLU(inplace=True),\n",
    "            nn.Dropout(p),\n",
    "            (TransformerConv(d_h, int(d_h/n_heads), heads=n_heads), 'x, edge_index -> x'),\n",
    "            norm.BatchNorm(d_h),\n",
    "            nn.ReLU(inplace=True),\n",
    "            nn.Dropout(p),\n",
    "            (TransformerConv(d_h, int(d_h/n_heads), heads=n_heads), 'x, edge_index -> x'),\n",
    "            norm.BatchNorm(d_h),\n",
    "            nn.ReLU(inplace=True),\n",
    "            nn.Dropout(p),\n",
    "            (TransformerConv(d_h, int(d_h/n_heads), heads=n_heads), 'x, edge_index -> x'),\n",
    "            norm.BatchNorm(d_h),\n",
    "            nn.ReLU(inplace=True),\n",
    "            nn.Dropout(p)\n",
    "            ])\n",
    "\n",
    "        # Maxpool the graph into a single vector and pass through classification head\n",
    "        self.classifier = Sequential(\n",
    "            'x, batch', [\n",
    "            (aggr.MaxAggregation(), 'x, batch -> x'),\n",
    "            nn.Linear(d_h, num_classes)\n",
    "            ])\n",
    "            \n",
    "    def forward(self, data):\n",
    "        x, edge_index, batch = data.x, data.edge_index, data.batch\n",
    "\n",
    "        x = self.encoder(x)\n",
    "        x = self.transformer(x, edge_index)\n",
    "        return self.classifier(x, batch)"
   ]
  },
  {
   "cell_type": "code",
   "execution_count": 16,
   "id": "1c4a1242-f699-4743-9847-e3f1ea5a89ea",
   "metadata": {},
   "outputs": [
    {
     "name": "stderr",
     "output_type": "stream",
     "text": [
      "GPU available: True (cuda), used: True\n",
      "TPU available: False, using: 0 TPU cores\n",
      "HPU available: False, using: 0 HPUs\n",
      "LOCAL_RANK: 0 - CUDA_VISIBLE_DEVICES: [0]\n",
      "\n",
      "  | Name      | Type               | Params | Mode \n",
      "---------------------------------------------------------\n",
      "0 | val_acc   | MulticlassAccuracy | 0      | train\n",
      "1 | train_acc | MulticlassAccuracy | 0      | train\n",
      "2 | test_acc  | MulticlassAccuracy | 0      | train\n",
      "3 | model     | GraphTransformer   | 2.2 M  | train\n",
      "4 | criterion | CrossEntropyLoss   | 0      | train\n",
      "---------------------------------------------------------\n",
      "2.2 M     Trainable params\n",
      "0         Non-trainable params\n",
      "2.2 M     Total params\n",
      "8.717     Total estimated model params size (MB)\n",
      "65        Modules in train mode\n",
      "0         Modules in eval mode\n"
     ]
    },
    {
     "data": {
      "application/vnd.jupyter.widget-view+json": {
       "model_id": "c0bca9dcb8d448a4a8753e5bc5308665",
       "version_major": 2,
       "version_minor": 0
      },
      "text/plain": [
       "Sanity Checking: |                                                                                            …"
      ]
     },
     "metadata": {},
     "output_type": "display_data"
    },
    {
     "name": "stderr",
     "output_type": "stream",
     "text": [
      "/home/michaln/Michal_Linux/git/envs/GNN_demo/lib/python3.13/site-packages/pytorch_lightning/utilities/data.py:79: Trying to infer the `batch_size` from an ambiguous collection. The batch size we found is 2. To avoid any miscalculations, use `self.log(..., batch_size=batch_size)`.\n",
      "/home/michaln/Michal_Linux/git/envs/GNN_demo/lib/python3.13/site-packages/pytorch_lightning/trainer/connectors/data_connector.py:425: The 'train_dataloader' does not have many workers which may be a bottleneck. Consider increasing the value of the `num_workers` argument` to `num_workers=19` in the `DataLoader` to improve performance.\n"
     ]
    },
    {
     "data": {
      "application/vnd.jupyter.widget-view+json": {
       "model_id": "07846fa0f69e400bb9acaa5d0a790e02",
       "version_major": 2,
       "version_minor": 0
      },
      "text/plain": [
       "Training: |                                                                                                   …"
      ]
     },
     "metadata": {},
     "output_type": "display_data"
    },
    {
     "name": "stderr",
     "output_type": "stream",
     "text": [
      "/home/michaln/Michal_Linux/git/envs/GNN_demo/lib/python3.13/site-packages/torch_geometric/warnings.py:11: UserWarning: The usage of `scatter(reduce='max')` can be accelerated via the 'torch-scatter' package, but it was not found\n",
      "  warnings.warn(message)\n"
     ]
    },
    {
     "data": {
      "application/vnd.jupyter.widget-view+json": {
       "model_id": "71f151b2168d4c9eaf2bb57f7d4caa85",
       "version_major": 2,
       "version_minor": 0
      },
      "text/plain": [
       "Validation: |                                                                                                 …"
      ]
     },
     "metadata": {},
     "output_type": "display_data"
    },
    {
     "data": {
      "application/vnd.jupyter.widget-view+json": {
       "model_id": "d8fb254e30c6474292982e4441b4539c",
       "version_major": 2,
       "version_minor": 0
      },
      "text/plain": [
       "Validation: |                                                                                                 …"
      ]
     },
     "metadata": {},
     "output_type": "display_data"
    },
    {
     "data": {
      "application/vnd.jupyter.widget-view+json": {
       "model_id": "df443653b7f04ae7b2cadcb2a11ea2eb",
       "version_major": 2,
       "version_minor": 0
      },
      "text/plain": [
       "Validation: |                                                                                                 …"
      ]
     },
     "metadata": {},
     "output_type": "display_data"
    },
    {
     "data": {
      "application/vnd.jupyter.widget-view+json": {
       "model_id": "f6032dee6957462d9a8d459cc5e19a9d",
       "version_major": 2,
       "version_minor": 0
      },
      "text/plain": [
       "Validation: |                                                                                                 …"
      ]
     },
     "metadata": {},
     "output_type": "display_data"
    },
    {
     "data": {
      "application/vnd.jupyter.widget-view+json": {
       "model_id": "05d6293e00b647e8abd1a5f612d3b5a4",
       "version_major": 2,
       "version_minor": 0
      },
      "text/plain": [
       "Validation: |                                                                                                 …"
      ]
     },
     "metadata": {},
     "output_type": "display_data"
    },
    {
     "data": {
      "application/vnd.jupyter.widget-view+json": {
       "model_id": "6daac7ffbc6e4d1db15b0486c3bff75a",
       "version_major": 2,
       "version_minor": 0
      },
      "text/plain": [
       "Validation: |                                                                                                 …"
      ]
     },
     "metadata": {},
     "output_type": "display_data"
    },
    {
     "data": {
      "application/vnd.jupyter.widget-view+json": {
       "model_id": "38096972542d46b2b5c228da0848a8fb",
       "version_major": 2,
       "version_minor": 0
      },
      "text/plain": [
       "Validation: |                                                                                                 …"
      ]
     },
     "metadata": {},
     "output_type": "display_data"
    },
    {
     "data": {
      "application/vnd.jupyter.widget-view+json": {
       "model_id": "c09c80c434a047ba9a5c6910dabe4625",
       "version_major": 2,
       "version_minor": 0
      },
      "text/plain": [
       "Validation: |                                                                                                 …"
      ]
     },
     "metadata": {},
     "output_type": "display_data"
    },
    {
     "data": {
      "application/vnd.jupyter.widget-view+json": {
       "model_id": "2754d3bace80447bbf1a5f8b11bed622",
       "version_major": 2,
       "version_minor": 0
      },
      "text/plain": [
       "Validation: |                                                                                                 …"
      ]
     },
     "metadata": {},
     "output_type": "display_data"
    },
    {
     "data": {
      "application/vnd.jupyter.widget-view+json": {
       "model_id": "aee72fc48a9245debead42a1692bcc8a",
       "version_major": 2,
       "version_minor": 0
      },
      "text/plain": [
       "Validation: |                                                                                                 …"
      ]
     },
     "metadata": {},
     "output_type": "display_data"
    },
    {
     "name": "stderr",
     "output_type": "stream",
     "text": [
      "`Trainer.fit` stopped: `max_epochs=10` reached.\n",
      "/home/michaln/Michal_Linux/git/envs/GNN_demo/lib/python3.13/site-packages/pytorch_lightning/trainer/connectors/checkpoint_connector.py:149: `.test(ckpt_path=None)` was called without a model. The best model of the previous `fit` call will be used. You can pass `.test(ckpt_path='best')` to use the best model or `.test(ckpt_path='last')` to use the last model. If you pass a value, this warning will be silenced.\n",
      "Restoring states from the checkpoint path at /home/michaln/Michal_Linux/git/GNN_demo/GT_Twitter/checkpoints/epoch=2-step=5403-v1.ckpt\n",
      "LOCAL_RANK: 0 - CUDA_VISIBLE_DEVICES: [0]\n",
      "Loaded model weights from the checkpoint at /home/michaln/Michal_Linux/git/GNN_demo/GT_Twitter/checkpoints/epoch=2-step=5403-v1.ckpt\n",
      "/home/michaln/Michal_Linux/git/envs/GNN_demo/lib/python3.13/site-packages/pytorch_lightning/trainer/connectors/data_connector.py:425: The 'test_dataloader' does not have many workers which may be a bottleneck. Consider increasing the value of the `num_workers` argument` to `num_workers=19` in the `DataLoader` to improve performance.\n"
     ]
    },
    {
     "data": {
      "application/vnd.jupyter.widget-view+json": {
       "model_id": "aa073af7ee6d4faa9ab517af44c5c3b5",
       "version_major": 2,
       "version_minor": 0
      },
      "text/plain": [
       "Testing: |                                                                                                    …"
      ]
     },
     "metadata": {},
     "output_type": "display_data"
    },
    {
     "name": "stdout",
     "output_type": "stream",
     "text": [
      "────────────────────────────────────────────────────────────────────────────────────────────────────────────────────────\n",
      "       Test metric             DataLoader 0\n",
      "────────────────────────────────────────────────────────────────────────────────────────────────────────────────────────\n",
      "        test_acc            0.6570853590965271\n",
      "        test_loss           0.6121741533279419\n",
      "────────────────────────────────────────────────────────────────────────────────────────────────────────────────────────\n"
     ]
    },
    {
     "data": {
      "text/plain": [
       "[{'test_loss': 0.6121741533279419, 'test_acc': 0.6570853590965271}]"
      ]
     },
     "execution_count": 16,
     "metadata": {},
     "output_type": "execute_result"
    }
   ],
   "source": [
    "# Instantiate the model\n",
    "model = GraphTransformer(dataset.num_node_features, dataset.num_classes)\n",
    "\n",
    "# I use Adam with the following hyperparams after some tuning\n",
    "optim = torch.optim.Adam\n",
    "optim_kwargs = {'lr': 1e-3, 'weight_decay': 1e-5}\n",
    "\n",
    "# Instantiate the classification module. This allows us to use PyTorch Lightning to make training/evaluation nicer for us.\n",
    "model_module = GNNClassificationModule(model, (train_loader, valid_loader, test_loader), dataset.num_classes, optim, **optim_kwargs)\n",
    "\n",
    "outpath = 'GT_Twitter'\n",
    "\n",
    "# Define checkpoint callback function to save best model\n",
    "checkpoint_callback = ModelCheckpoint(\n",
    "        monitor=\"val_loss\",\n",
    "        dirpath=f\"{outpath}/checkpoints/\",\n",
    "        save_top_k=1,        # Save the best model\n",
    "        mode=\"min\",\n",
    "        every_n_epochs=1\n",
    "    )\n",
    "\n",
    "# Train and test the model\n",
    "trainer = pl.Trainer(\n",
    "    accelerator=\"auto\",\n",
    "    devices=1 if torch.cuda.is_available() else None,  \n",
    "    max_epochs=10,\n",
    "    callbacks=[TQDMProgressBar(refresh_rate=20), checkpoint_callback],\n",
    "    logger=CSVLogger(save_dir=f\"{outpath}/logs/\"),\n",
    ")\n",
    "\n",
    "trainer.fit(model_module)\n",
    "trainer.test() # Here we just log loss and accuracy, but we might also be interested in F1 score, etc. in a real setting."
   ]
  },
  {
   "cell_type": "code",
   "execution_count": 17,
   "id": "c09be435-b971-445f-8835-64e443fa30fe",
   "metadata": {},
   "outputs": [
    {
     "data": {
      "image/png": "[encoded data removed]",
      "text/plain": [
       "<Figure size 640x480 with 1 Axes>"
      ]
     },
     "metadata": {},
     "output_type": "display_data"
    },
    {
     "data": {
      "image/png": "[encoded data removed]",
      "text/plain": [
       "<Figure size 640x480 with 1 Axes>"
      ]
     },
     "metadata": {},
     "output_type": "display_data"
    }
   ],
   "source": [
    "# Plot loss & accuracy\n",
    "metrics_task = pd.read_csv(trainer.logger.log_dir + \"/metrics.csv\")\n",
    "metrics_task.set_index(\"epoch\", inplace=True)\n",
    "metrics_task = metrics_task.groupby(level=0).sum().drop(\"step\", axis=1)\n",
    "\n",
    "plt.plot(metrics_task.train_loss[:-1], label='Train')\n",
    "plt.plot(metrics_task.val_loss[:-1], label='Validation')\n",
    "plt.title('Loss')\n",
    "plt.legend()\n",
    "plt.xlabel('Epoch')\n",
    "plt.ylabel('Loss')\n",
    "plt.grid()\n",
    "\n",
    "plt.show()\n",
    "\n",
    "plt.plot(metrics_task.train_acc[:-1], label='Train')\n",
    "plt.plot(metrics_task.val_acc[:-1], label='Validation')\n",
    "plt.title('Accuracy')\n",
    "plt.legend()\n",
    "plt.xlabel('Epoch')\n",
    "plt.ylabel('Accuracy')\n",
    "plt.grid()\n",
    "\n",
    "plt.show()"
   ]
  },
  {
   "cell_type": "code",
   "execution_count": null,
   "id": "ea587b64-da84-4a1a-8b45-fcd962c8989b",
   "metadata": {},
   "outputs": [],
   "source": []
  }
 ],
 "metadata": {
  "kernelspec": {
   "display_name": "Python 3 (ipykernel)",
   "language": "python",
   "name": "python3"
  },
  "language_info": {
   "codemirror_mode": {
    "name": "ipython",
    "version": 3
   },
   "file_extension": ".py",
   "mimetype": "text/x-python",
   "name": "python",
   "nbconvert_exporter": "python",
   "pygments_lexer": "ipython3",
   "version": "3.13.5"
  }
 },
 "nbformat": 4,
 "nbformat_minor": 5
}
